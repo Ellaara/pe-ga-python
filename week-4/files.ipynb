{
 "cells": [
  {
   "cell_type": "code",
   "execution_count": 11,
   "metadata": {},
   "outputs": [
    {
     "name": "stdout",
     "output_type": "stream",
     "text": [
      "1. This is the first line in the file\n",
      "2. And this is the second line in the file\n"
     ]
    }
   ],
   "source": [
    "#read from a file\n",
    "my_file = open('lines.txt')\n",
    "\n",
    "data = my_file.read()\n",
    "print(data)\n",
    "\n",
    "my_file.close()\n"
   ]
  },
  {
   "cell_type": "code",
   "execution_count": 12,
   "metadata": {},
   "outputs": [
    {
     "name": "stdout",
     "output_type": "stream",
     "text": [
      "['1. This is the first line in the file\\n', '2. And this is the second line in the file']\n"
     ]
    }
   ],
   "source": [
    "my_file = open('lines.txt')\n",
    "line = my_file.readlines()\n",
    "print(line)\n",
    "my_file.close()\n",
    "\n",
    "#readline() reads only one line\n",
    "#readlines() puts all the lines in a text file beside each other"
   ]
  },
  {
   "cell_type": "code",
   "execution_count": 14,
   "metadata": {},
   "outputs": [
    {
     "name": "stdout",
     "output_type": "stream",
     "text": [
      "['1. This is the first line in the file\\n', '2. And this is the second line in the file']\n"
     ]
    }
   ],
   "source": [
    "#use with if we dont want to bother about closing the file each time\n",
    "with open('lines.txt') as my_file:\n",
    "    new_lines = my_file.readlines()\n",
    "    print(new_lines)"
   ]
  },
  {
   "cell_type": "code",
   "execution_count": 18,
   "metadata": {},
   "outputs": [],
   "source": [
    "#writing to a file\n",
    "# if you dont specify the second argument for open the default is always read. \n",
    "# You have to specify w to write\n",
    "with open('lines.txt', 'w') as lines_file:\n",
    "    lines_file.write('3. This is the third line (or should be)\\n')\n",
    "\n",
    "#using 'w' will overwrite any previous content\n",
    "#use append to add to existing content\n",
    "\n",
    "with open('lines.txt','a') as lines_file:\n",
    "    lines_file.write('4. A fourth line (actually the second after we wiped out the previous\\n')\n",
    "    \n"
   ]
  }
 ],
 "metadata": {
  "interpreter": {
   "hash": "31f2aee4e71d21fbe5cf8b01ff0e069b9275f58929596ceb00d14d90e3e16cd6"
  },
  "kernelspec": {
   "display_name": "Python 3.8.9 64-bit",
   "language": "python",
   "name": "python3"
  },
  "language_info": {
   "codemirror_mode": {
    "name": "ipython",
    "version": 3
   },
   "file_extension": ".py",
   "mimetype": "text/x-python",
   "name": "python",
   "nbconvert_exporter": "python",
   "pygments_lexer": "ipython3",
   "version": "3.8.9"
  },
  "orig_nbformat": 4
 },
 "nbformat": 4,
 "nbformat_minor": 2
}
