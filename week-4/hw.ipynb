{
 "cells": [
  {
   "cell_type": "code",
   "execution_count": 21,
   "metadata": {},
   "outputs": [],
   "source": [
    "#Define a class BankAccount\n",
    "#A BankAccount has an id, an account_number, a name (the person who owns the account), and a balance\n",
    "#The opening balance of the account is 0\n",
    "class BankAccount:\n",
    "    def __init__(self, id, account_number, name):\n",
    "        #implement the init method\n",
    "        self.id = id\n",
    "        self.account_number = account_number\n",
    "        self.name = name\n",
    "        self.balance = 0.0\n",
    "    \n",
    "    #Implement deposit and withdraw methods for the BankAccount class\n",
    "    #We dont allow overdrafts for our accounts, so remember to check that\n",
    "    #You have a sufficient balance when you are doing a withdrawal\n",
    "    def deposit(self, amount):\n",
    "        self.balance += amount\n",
    "\n",
    "    def withdraw(self, amount):\n",
    "        if amount <= self.balance:\n",
    "            self.balance -= amount\n",
    "    #Implement the __repr__ method to display the id, account_number, name, and balance for an account\n",
    "    def __repr__(self):\n",
    "        return f\"id:{self.id}\\tact#{self.account_number}\\taccount name: {self.name}\\tbalance:{self.balance}\"\n"
   ]
  },
  {
   "cell_type": "code",
   "execution_count": 18,
   "metadata": {},
   "outputs": [],
   "source": [
    "#Create ten BankAccount objects and insert them into a list\n",
    "#We want to send out an email to all the bank account holders\n",
    "#Write a function get_eligible_accounts, that takes the list of accounnts\n",
    "# and a target_balance and returns a new list with only those accounts\n",
    "#that have a balance greater than a target_balance\n",
    "import random\n",
    "\n",
    "def get_eligible_accounts(accounts, target_balance):\n",
    "    result = []\n",
    "    for account in accounts:\n",
    "        if account.balance > target_balance:\n",
    "            result.append(account)\n",
    "    return result\n",
    "\n",
    "def generate_accounts(n):\n",
    "    data = []\n",
    "    names = ['John', 'Henry', 'Carol', 'Lisa', 'James', 'Amy']\n",
    "    for i in range(n + 1):\n",
    "        #create an account, and add to a list\n",
    "        a = BankAccount(i+1, i * 100, random.choice(names))\n",
    "        #call deposit with a random amount between 100 and 1000\n",
    "        a.deposit(random.randint(100, 1000))\n",
    "        data.append(a)\n",
    "    \n",
    "    return data\n",
    "\n",
    "\n"
   ]
  },
  {
   "cell_type": "code",
   "execution_count": 22,
   "metadata": {},
   "outputs": [
    {
     "name": "stdout",
     "output_type": "stream",
     "text": [
      "[id:1\tact#0\taccount name: Henry\tbalance:780.0, id:2\tact#100\taccount name: Carol\tbalance:129.0, id:3\tact#200\taccount name: Amy\tbalance:915.0, id:4\tact#300\taccount name: Carol\tbalance:993.0, id:5\tact#400\taccount name: Carol\tbalance:283.0, id:6\tact#500\taccount name: Henry\tbalance:125.0, id:7\tact#600\taccount name: Lisa\tbalance:658.0, id:8\tact#700\taccount name: Henry\tbalance:127.0, id:9\tact#800\taccount name: Henry\tbalance:523.0, id:10\tact#900\taccount name: Lisa\tbalance:421.0, id:11\tact#1000\taccount name: Henry\tbalance:553.0, id:12\tact#1100\taccount name: Lisa\tbalance:106.0, id:13\tact#1200\taccount name: Carol\tbalance:229.0, id:14\tact#1300\taccount name: John\tbalance:268.0, id:15\tact#1400\taccount name: James\tbalance:695.0, id:16\tact#1500\taccount name: Lisa\tbalance:990.0, id:17\tact#1600\taccount name: John\tbalance:839.0, id:18\tact#1700\taccount name: John\tbalance:796.0, id:19\tact#1800\taccount name: Lisa\tbalance:649.0, id:20\tact#1900\taccount name: Lisa\tbalance:136.0, id:21\tact#2000\taccount name: Amy\tbalance:346.0]\n"
     ]
    }
   ],
   "source": [
    "account_list = generate_accounts(20)\n",
    "\n",
    "print(account_list)"
   ]
  },
  {
   "cell_type": "code",
   "execution_count": 23,
   "metadata": {},
   "outputs": [
    {
     "name": "stdout",
     "output_type": "stream",
     "text": [
      "[id:1\tact#0\taccount name: Henry\tbalance:780.0, id:3\tact#200\taccount name: Amy\tbalance:915.0, id:4\tact#300\taccount name: Carol\tbalance:993.0, id:7\tact#600\taccount name: Lisa\tbalance:658.0, id:15\tact#1400\taccount name: James\tbalance:695.0, id:16\tact#1500\taccount name: Lisa\tbalance:990.0, id:17\tact#1600\taccount name: John\tbalance:839.0, id:18\tact#1700\taccount name: John\tbalance:796.0, id:19\tact#1800\taccount name: Lisa\tbalance:649.0]\n"
     ]
    }
   ],
   "source": [
    "print(get_eligible_accounts(account_list, 600))"
   ]
  },
  {
   "cell_type": "code",
   "execution_count": 37,
   "metadata": {},
   "outputs": [],
   "source": [
    "#Define a class Flight that we will use to track an airline flight\n",
    "# and all the bookings we have\n",
    "#The Fight class has flight_number, origin, destination, capacity\n",
    "\n",
    "class Flight:\n",
    "    def __init__(self, flight_number, origin, destination, capacity):\n",
    "        #define the init method\n",
    "        self.flight_number = flight_number\n",
    "        self.origin = origin\n",
    "        self.destination = destination\n",
    "        self.capacity = capacity\n",
    "        self.bookings = []\n",
    "\n",
    "\n",
    "    #define a book method that books the flight\n",
    "    #the book method must decrese the capacity of the flight \n",
    "    #by 1 each time it is called\n",
    "    def book(self, customer):\n",
    "        #add customer to booking list\n",
    "        if type(customer) in Customer:\n",
    "            #make sure we have capacity before booking\n",
    "            self.bookings.append(customer)\n",
    "            self.capacity -=1\n",
    "        else:\n",
    "            #raise an error\n",
    "            raise TypeError (f'Invalid Type. Expected Customer object, got {type(customer)}')\n",
    "    \n",
    "\n",
    "\n",
    "     #define the __repr__ method that prints out a flight's number, origin, and destination\n",
    "    def __repr__(self):\n",
    "        return f\"Flight #: {self.flight_number} From: {self.origin} To: {self.destination}\"\n"
   ]
  },
  {
   "cell_type": "code",
   "execution_count": 35,
   "metadata": {},
   "outputs": [],
   "source": [
    "#Lets build on the airline application.\n",
    "#Create a customer class. Each cutomer has an id, name, age, sex\n",
    "#Modify your book method to accept a customer.\n",
    "#Add this customer to a bookings list in your Flight class (modify your Flight class to have a bookings list)\n",
    "#Make sure that we can only insert a Customer object in our bookings list, and not  other data type\n",
    "#implement a method get_bookings to display the id, name, age, and sex of all\n",
    "#the customers that have been booked on the flight\n",
    "\n",
    "class Customer:\n",
    "    def __init__ (self, id, name, age, sex):\n",
    "        self.id = id\n",
    "        self.name = name\n",
    "        self.age = age\n",
    "        self.sex = sex\n",
    "    def __repr__ (self):\n",
    "        return f\"{self.id}\\t{self.name}\\t{self.age}\\t{self.sex}\"\n"
   ]
  },
  {
   "cell_type": "code",
   "execution_count": 39,
   "metadata": {},
   "outputs": [
    {
     "name": "stdout",
     "output_type": "stream",
     "text": [
      "Flight #: AC100 From: YYZ To: KIN\n",
      "100\tJohn Doe\t30\tM\n"
     ]
    }
   ],
   "source": [
    "#create a flight\n",
    "\n",
    "f = Flight('AC100', 'YYZ', 'KIN', 170)\n",
    "\n",
    "print(f)\n",
    "\n",
    "c = Customer(100, 'John Doe', 30, 'M')\n",
    "\n",
    "print (c)"
   ]
  },
  {
   "cell_type": "code",
   "execution_count": 40,
   "metadata": {},
   "outputs": [
    {
     "ename": "TypeError",
     "evalue": "argument of type 'type' is not iterable",
     "output_type": "error",
     "traceback": [
      "\u001b[0;31m---------------------------------------------------------------------------\u001b[0m",
      "\u001b[0;31mTypeError\u001b[0m                                 Traceback (most recent call last)",
      "\u001b[1;32m/Users/elahehrasoulian/pyth-15/week-4/hw.ipynb Cell 8'\u001b[0m in \u001b[0;36m<cell line: 1>\u001b[0;34m()\u001b[0m\n\u001b[0;32m----> <a href='vscode-notebook-cell:/Users/elahehrasoulian/pyth-15/week-4/hw.ipynb#ch0000007?line=0'>1</a>\u001b[0m f\u001b[39m.\u001b[39;49mbook(c)\n\u001b[1;32m      <a href='vscode-notebook-cell:/Users/elahehrasoulian/pyth-15/week-4/hw.ipynb#ch0000007?line=1'>2</a>\u001b[0m \u001b[39mprint\u001b[39m(f\u001b[39m.\u001b[39mget_bookings())\n\u001b[1;32m      <a href='vscode-notebook-cell:/Users/elahehrasoulian/pyth-15/week-4/hw.ipynb#ch0000007?line=3'>4</a>\u001b[0m f\u001b[39m.\u001b[39mbook(\u001b[39m'\u001b[39m\u001b[39mJane Doe\u001b[39m\u001b[39m'\u001b[39m)\n",
      "\u001b[1;32m/Users/elahehrasoulian/pyth-15/week-4/hw.ipynb Cell 5'\u001b[0m in \u001b[0;36mFlight.book\u001b[0;34m(self, customer)\u001b[0m\n\u001b[1;32m     <a href='vscode-notebook-cell:/Users/elahehrasoulian/pyth-15/week-4/hw.ipynb#ch0000002?line=17'>18</a>\u001b[0m \u001b[39mdef\u001b[39;00m \u001b[39mbook\u001b[39m(\u001b[39mself\u001b[39m, customer):\n\u001b[1;32m     <a href='vscode-notebook-cell:/Users/elahehrasoulian/pyth-15/week-4/hw.ipynb#ch0000002?line=18'>19</a>\u001b[0m     \u001b[39m#add customer to booking list\u001b[39;00m\n\u001b[0;32m---> <a href='vscode-notebook-cell:/Users/elahehrasoulian/pyth-15/week-4/hw.ipynb#ch0000002?line=19'>20</a>\u001b[0m     \u001b[39mif\u001b[39;00m \u001b[39mtype\u001b[39;49m(customer) \u001b[39min\u001b[39;49;00m Customer:\n\u001b[1;32m     <a href='vscode-notebook-cell:/Users/elahehrasoulian/pyth-15/week-4/hw.ipynb#ch0000002?line=20'>21</a>\u001b[0m         \u001b[39m#make sure we have capacity before booking\u001b[39;00m\n\u001b[1;32m     <a href='vscode-notebook-cell:/Users/elahehrasoulian/pyth-15/week-4/hw.ipynb#ch0000002?line=21'>22</a>\u001b[0m         \u001b[39mself\u001b[39m\u001b[39m.\u001b[39mbookings\u001b[39m.\u001b[39mappend(customer)\n\u001b[1;32m     <a href='vscode-notebook-cell:/Users/elahehrasoulian/pyth-15/week-4/hw.ipynb#ch0000002?line=22'>23</a>\u001b[0m         \u001b[39mself\u001b[39m\u001b[39m.\u001b[39mcapacity \u001b[39m-\u001b[39m\u001b[39m=\u001b[39m\u001b[39m1\u001b[39m\n",
      "\u001b[0;31mTypeError\u001b[0m: argument of type 'type' is not iterable"
     ]
    }
   ],
   "source": [
    "f.book(c)\n",
    "print(f.get_bookings())\n",
    "\n",
    "f.book('Jane Doe')\n",
    "\n",
    "print(f.bookings())"
   ]
  }
 ],
 "metadata": {
  "interpreter": {
   "hash": "31f2aee4e71d21fbe5cf8b01ff0e069b9275f58929596ceb00d14d90e3e16cd6"
  },
  "kernelspec": {
   "display_name": "Python 3.8.9 64-bit",
   "language": "python",
   "name": "python3"
  },
  "language_info": {
   "codemirror_mode": {
    "name": "ipython",
    "version": 3
   },
   "file_extension": ".py",
   "mimetype": "text/x-python",
   "name": "python",
   "nbconvert_exporter": "python",
   "pygments_lexer": "ipython3",
   "version": "3.8.9"
  },
  "orig_nbformat": 4
 },
 "nbformat": 4,
 "nbformat_minor": 2
}
