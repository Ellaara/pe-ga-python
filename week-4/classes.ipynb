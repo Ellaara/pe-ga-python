{
 "cells": [
  {
   "cell_type": "code",
   "execution_count": 7,
   "metadata": {},
   "outputs": [
    {
     "name": "stdout",
     "output_type": "stream",
     "text": [
      "30\n",
      "31\n",
      "<class 'int'> <class 'str'> <class 'bool'>\n",
      "<class '__main__.Person'>\n"
     ]
    }
   ],
   "source": [
    "#OOP - Object Oriented Programming\n",
    "#1. write classes, these classes will have instance variables, and methods (functions)\n",
    "#2. use classes to create objects\n",
    "\n",
    "#Instagram Account\n",
    "\n",
    "#Data\n",
    "#- username\n",
    "#- password\n",
    "#- posts\n",
    "#- followers\n",
    "\n",
    "#Actions\n",
    "#- make comments\n",
    "#- share posts\n",
    "#- follow an account\n",
    "#- like\n",
    "#- unfollow\n",
    "#- Block\n",
    "#- report\n",
    "\n",
    "#1. Encapsulation\n",
    "\n",
    "class Person:\n",
    "    def __init__ (self, name, age):\n",
    "        #used to initialize the data members of the class\n",
    "        #name nad age are instance variables\n",
    "        self.name = name\n",
    "        self.age = age\n",
    "    def birthday (self):\n",
    "        #increase age by 1\n",
    "        self.age += 1\n",
    "\n",
    "\n",
    "\n",
    "#instantiate the Person class\n",
    "p = Person('John', 30)\n",
    "\n",
    "print(p.age)\n",
    "\n",
    "p.birthday()\n",
    "\n",
    "print (p.age)\n",
    "\n",
    "\n",
    "#p is an object that belongs to the Person class\n",
    "#or - p is an instance of the Person class\n",
    "\n",
    "# so p, is a variable (object) of type Person\n",
    "\n",
    "num = 10\n",
    "name = 'Ella'\n",
    "has_yacht = False\n",
    "\n",
    "print(type(num), type(name), type(has_yacht))\n",
    "\n",
    "print(type(p))\n",
    "\n",
    "\n",
    "\n",
    "\n",
    "\n",
    "\n",
    "\n",
    "\n",
    "\n"
   ]
  },
  {
   "cell_type": "code",
   "execution_count": 12,
   "metadata": {},
   "outputs": [
    {
     "name": "stdout",
     "output_type": "stream",
     "text": [
      "50\n",
      "30\n"
     ]
    }
   ],
   "source": [
    "#create a Rectangle class\n",
    "#length and width instance variables\n",
    "#area and perimeter methods\n",
    "\n",
    "class Rectangle:\n",
    "    def __init__ (self, length, width):\n",
    "        self.length = length\n",
    "        self.width = width\n",
    "\n",
    "    def area (self):\n",
    "        return self.length * self.width\n",
    "\n",
    "    #define the perimeter method\n",
    "\n",
    "    def perimeter (self):\n",
    "        return 2 * (self.length + self.width)\n",
    "\n",
    "r = Rectangle (10, 5)\n",
    "\n",
    "a = r.area()\n",
    "print (a)\n",
    "\n",
    "b = r. perimeter()\n",
    "print (b)"
   ]
  },
  {
   "cell_type": "code",
   "execution_count": 19,
   "metadata": {},
   "outputs": [
    {
     "name": "stdout",
     "output_type": "stream",
     "text": [
      "Lose Yourself\tRap/Hip Hop\tEminem,Cardi B\t2002\n"
     ]
    }
   ],
   "source": [
    "#create a Song class\n",
    "#title, genre, artist, year_of_release, rating instance variables\n",
    "\n",
    "class Song:\n",
    "    def __init__ (self, title, genre):\n",
    "        self.title = title\n",
    "        self.genre = genre\n",
    "        self.artist = []\n",
    "        self.year_of_release = ''\n",
    "        self.rating = 0.0\n",
    "    def set_artist(self, artist):\n",
    "        self.artist.append(artist)\n",
    "\n",
    "    def set_release_year(self, year):\n",
    "        self.year_of_release = year\n",
    "    \n",
    "    def __repr__(self):\n",
    "        #should return a string\n",
    "        return f\"{self.title}\\t{self.genre}\\t{','.join (self.artist)}\\t{self.year_of_release}\"\n",
    "    \n",
    "s = Song(\"Lose Yourself\", \"Rap/Hip Hop\")\n",
    "\n",
    "s.set_artist('Eminem')\n",
    "s.set_artist('Cardi B')\n",
    "s.set_release_year('2002')\n",
    "\n",
    "print(s)\n"
   ]
  },
  {
   "cell_type": "code",
   "execution_count": 41,
   "metadata": {},
   "outputs": [
    {
     "name": "stdout",
     "output_type": "stream",
     "text": [
      "My Faves\n",
      "--------------------\n",
      "1\tLose Yourself\tRap/Hip Hop\tEminem,Cardi B\t2002\n",
      "2\tBodak Yellow\tRap\t\t\n",
      "\n",
      "My Faves\n",
      "--------------------\n",
      "1\tLose Yourself\tRap/Hip Hop\tEminem,Cardi B\t2002\n",
      "\n"
     ]
    }
   ],
   "source": [
    "#create a Playlist\n",
    "#title, songs (list of Songs objects)\n",
    "#add_song, remove_song, change_title, share methods\n",
    "\n",
    "class Playlist:\n",
    "    #define the __init__ method\n",
    "    def __init__(self, title):\n",
    "        self.title = title\n",
    "        self.songs = []\n",
    "\n",
    "    def add_song(self,song):\n",
    "        if type(song) is Song:\n",
    "            self.songs.append(song)\n",
    "\n",
    "    def remove_song (self,title):\n",
    "        #search for the index of the song by title\n",
    "        #grab the index, and use it in pop() to remove song from the list\n",
    "        song_index = -1\n",
    "        for idx in range(len(self.songs)):\n",
    "            if self.songs[idx].title == title:\n",
    "                song_index = idx\n",
    "                break\n",
    "\n",
    "        if song_index >= 0:\n",
    "            self.songs.pop(song_index)\n",
    "        \n",
    "        \n",
    "    def __repr__(self):\n",
    "        #display my playlist like this\n",
    "        #Title\n",
    "        #---------\n",
    "        #1. <song 1>\n",
    "        #2. <song 2>\n",
    "\n",
    "        song_string = ''\n",
    "        count = 1\n",
    "        for song in self.songs:\n",
    "            song_string += str(count)+'\\t' + song.__repr__()+'\\n'\n",
    "            count +=1\n",
    "        return f\"{self.title}\\n--------------------\\n{song_string}\"\n",
    "\n",
    "\n",
    "\n",
    "favourite_songs = Playlist('My Faves')\n",
    "favourite_songs.add_song(s) \n",
    "new_song = Song('Bodak Yellow', 'Rap')\n",
    "favourite_songs.add_song(new_song) \n",
    "print(favourite_songs)\n",
    "\n",
    "favourite_songs.remove_song('Bodak Yellow')\n",
    "print(favourite_songs)\n"
   ]
  }
 ],
 "metadata": {
  "interpreter": {
   "hash": "31f2aee4e71d21fbe5cf8b01ff0e069b9275f58929596ceb00d14d90e3e16cd6"
  },
  "kernelspec": {
   "display_name": "Python 3.8.9 64-bit",
   "language": "python",
   "name": "python3"
  },
  "language_info": {
   "codemirror_mode": {
    "name": "ipython",
    "version": 3
   },
   "file_extension": ".py",
   "mimetype": "text/x-python",
   "name": "python",
   "nbconvert_exporter": "python",
   "pygments_lexer": "ipython3",
   "version": "3.8.9"
  },
  "orig_nbformat": 4
 },
 "nbformat": 4,
 "nbformat_minor": 2
}
