{
 "cells": [
  {
   "cell_type": "code",
   "execution_count": 1,
   "metadata": {},
   "outputs": [],
   "source": [
    "#writing to csv file\n",
    "\n",
    "import csv\n",
    "\n",
    "people = [{'name':'John', 'age':30, 'sex': 'M', 'address':'Toronto'}]\n",
    "fields = ['name', 'age', 'sex', 'address']\n",
    "#write this to acsv file called people.csv\n",
    "\n",
    "with open('people.csv', 'w', newline = '') as data_file:\n",
    "    writer = csv.DictWriter(data_file, fieldnames=fields)\n",
    "    writer.writeheader()\n",
    "    for person in people:\n",
    "        writer.writerow(person)\n",
    "       \n",
    "\n"
   ]
  }
 ],
 "metadata": {
  "interpreter": {
   "hash": "31f2aee4e71d21fbe5cf8b01ff0e069b9275f58929596ceb00d14d90e3e16cd6"
  },
  "kernelspec": {
   "display_name": "Python 3.8.9 64-bit",
   "language": "python",
   "name": "python3"
  },
  "language_info": {
   "codemirror_mode": {
    "name": "ipython",
    "version": 3
   },
   "file_extension": ".py",
   "mimetype": "text/x-python",
   "name": "python",
   "nbconvert_exporter": "python",
   "pygments_lexer": "ipython3",
   "version": "3.8.9"
  },
  "orig_nbformat": 4
 },
 "nbformat": 4,
 "nbformat_minor": 2
}
