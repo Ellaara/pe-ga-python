{
 "cells": [
  {
   "cell_type": "code",
   "execution_count": 7,
   "metadata": {},
   "outputs": [
    {
     "name": "stdout",
     "output_type": "stream",
     "text": [
      "a=10, b=20\n",
      "x=0.5 y=-20\n"
     ]
    }
   ],
   "source": [
    "#positional vs keyword arguments\n",
    "\n",
    "# a and b are positional arguments\n",
    "\n",
    "def func(a, b):\n",
    "    print(f'a={a}, b={b}')\n",
    "\n",
    "func (10, 20)\n",
    "\n",
    "#we can define functions and then call them with arguments in any order ... if they are keyword arguments\n",
    "\n",
    "# x and y are keyword arguments. They are also default arguments\n",
    "\n",
    "def bar(x=0, y=0):\n",
    "    print(f'x={x} y={y}')\n",
    "\n",
    "bar(y= -20, x=0.5)\n"
   ]
  },
  {
   "cell_type": "code",
   "execution_count": 5,
   "metadata": {},
   "outputs": [
    {
     "name": "stdout",
     "output_type": "stream",
     "text": [
      "Ella...Rasoulian Hello World\n"
     ]
    }
   ],
   "source": [
    "first_name = 'Ella'\n",
    "last_name = 'Rasoulian'\n",
    "print(first_name, last_name, sep='...')\n",
    "print('Hello World')"
   ]
  },
  {
   "cell_type": "code",
   "execution_count": 18,
   "metadata": {},
   "outputs": [
    {
     "name": "stdout",
     "output_type": "stream",
     "text": [
      "Princeton\n",
      "your hobbies are: \n",
      "your hobbies are:  Chess, Writing, Surfing, \n",
      "John\n",
      "your hobbies are: \n",
      "your hobbies are:  skiing, \n",
      "city =Toronto\n",
      "age =30\n"
     ]
    }
   ],
   "source": [
    "#if we have positional, variable args and keyword args..\n",
    "#positional arg MUST go first\n",
    "#variable args next\n",
    "#keyword args last\n",
    "\n",
    "def baz(name, *args, **kwargs):\n",
    "    print(name)\n",
    "    print('your hobbies are: ')\n",
    "    hobbies= ''\n",
    "    for item in args:\n",
    "        hobbies += item + ', '\n",
    "    print ('your hobbies are: ', hobbies)\n",
    "\n",
    "    for key in kwargs:\n",
    "        print(f'{key} ={kwargs[key]}')\n",
    "\n",
    "baz('Princeton', 'Chess', 'Writing','Surfing')\n",
    "baz('John', 'skiing', city='Toronto', age=30)\n"
   ]
  },
  {
   "cell_type": "code",
   "execution_count": 20,
   "metadata": {},
   "outputs": [
    {
     "name": "stdout",
     "output_type": "stream",
     "text": [
      "lambda 10, 20\n"
     ]
    }
   ],
   "source": [
    "#lambda functions:\n",
    "#single lines, we dont need to call them repeatedly (only once)\n",
    "\n",
    "#def add(a, b):\n",
    "   # return a + b\n",
    "\n",
    "#as a lambda function\n",
    "\n",
    "add = lambda a, b : a + b\n",
    "\n",
    "\n"
   ]
  },
  {
   "cell_type": "code",
   "execution_count": 29,
   "metadata": {},
   "outputs": [
    {
     "name": "stdout",
     "output_type": "stream",
     "text": [
      "[57, 25, 13, 11, 5, 4, 2, 1, 0, -10]\n",
      "['Captain America: Civil War', 'Pirated of Caribbean']\n",
      "[{'title': 'Through the Night', 'genre': 'Pop', 'artiste': 'Travis Scott', 'year': '2016', 'length': 4.5}, {'title': 'Likes', 'genre': 'Reggae', 'artiste': 'Chronixx', 'year': '2017', 'length': 3.45}, {'title': 'Bodak Yellow', 'genre': 'Pop', 'artiste': 'Cardi B', 'year': '2017', 'length': 3.25}, {'title': 'Shake it Off', 'genre': 'Pop', 'artiste': 'Taylor Swift', 'year': '2016', 'length': 3.15}, {'title': 'From Time', 'genre': 'Pop', 'artiste': 'Drake, Jhene Aiko', 'year': '2013', 'length': 2.5}]\n"
     ]
    }
   ],
   "source": [
    "playlist = [\n",
    "    {\n",
    "        'title': 'Bodak Yellow',\n",
    "        'genre': 'Pop',\n",
    "        'artiste': 'Cardi B',\n",
    "        'year': '2017',\n",
    "        'length': 3.25\n",
    "    },\n",
    "    {\n",
    "        'title': 'Shake it Off',\n",
    "        'genre': 'Pop',\n",
    "        'artiste': 'Taylor Swift',\n",
    "        'year': '2016',\n",
    "        'length': 3.15\n",
    "    },\n",
    "    {\n",
    "        'title': 'Through the Night',\n",
    "        'genre': 'Pop',\n",
    "        'artiste': 'Travis Scott',\n",
    "        'year': '2016',\n",
    "        'length': 4.50\n",
    "    },\n",
    "    {\n",
    "        'title': 'Likes',\n",
    "        'genre': 'Reggae',\n",
    "        'artiste': 'Chronixx',\n",
    "        'year': '2017',\n",
    "        'length': 3.45\n",
    "    },\n",
    "    {\n",
    "        'title': 'From Time',\n",
    "        'genre': 'Pop',\n",
    "        'artiste': 'Drake, Jhene Aiko',\n",
    "        'year': '2013',\n",
    "        'length': 2.50\n",
    "    }\n",
    "]\n",
    "\n",
    "#what if we want to sort this playlist\n",
    "\n",
    "nums = [-10, 5, 0, 1, 11, 4, 13, 25, 57, 2]\n",
    "print(sorted(nums, reverse= True))\n",
    "\n",
    "movies =['Pirated of Caribbean', 'Captain America: Civil War' ]\n",
    "print(sorted(movies))\n",
    "\n",
    "print(sorted(playlist, key=lambda song : song['length'], reverse=True))\n"
   ]
  }
 ],
 "metadata": {
  "interpreter": {
   "hash": "31f2aee4e71d21fbe5cf8b01ff0e069b9275f58929596ceb00d14d90e3e16cd6"
  },
  "kernelspec": {
   "display_name": "Python 3.8.9 64-bit",
   "language": "python",
   "name": "python3"
  },
  "language_info": {
   "codemirror_mode": {
    "name": "ipython",
    "version": 3
   },
   "file_extension": ".py",
   "mimetype": "text/x-python",
   "name": "python",
   "nbconvert_exporter": "python",
   "pygments_lexer": "ipython3",
   "version": "3.8.9"
  },
  "orig_nbformat": 4
 },
 "nbformat": 4,
 "nbformat_minor": 2
}
