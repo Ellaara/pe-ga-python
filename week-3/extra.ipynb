{
 "cells": [
  {
   "cell_type": "code",
   "execution_count": 7,
   "metadata": {},
   "outputs": [
    {
     "name": "stdout",
     "output_type": "stream",
     "text": [
      "(123)456-789\n"
     ]
    }
   ],
   "source": [
    "#codewars https://www.codewars.com/kata/525f50e3b73515a6db000b83/train/python\n",
    "\n",
    "#input(s) list of integers, size 10 (0-9)\n",
    "#output - string in phone number fomrat: (xxx) xxx-xxxx\n",
    "\n",
    "#1. create a variable to store the output\n",
    "#2. iterate over the list of numbers\n",
    "#2.1  add each item to our output string\n",
    "#3. add extra characters to the correct positions in the string\n",
    "\n",
    "def create_phone_number(n):\n",
    "    phone_number = '('\n",
    "    for idx in range(len(n)):\n",
    "        if idx ==3:\n",
    "            phone_number += ')'\n",
    "        if idx == 6:\n",
    "            phone_number += '-'\n",
    "        phone_number += str(n[idx])\n",
    "\n",
    "\n",
    "    return phone_number\n",
    "\n",
    "print (create_phone_number([1,2,3,4,5,6,7,8,9]))\n"
   ]
  },
  {
   "cell_type": "code",
   "execution_count": 13,
   "metadata": {},
   "outputs": [
    {
     "name": "stdout",
     "output_type": "stream",
     "text": [
      "[1, 2, 3]\n",
      "[5, 6, 7]\n",
      "[9, 0]\n",
      "['1', '2', '3', '4', '5', '6', '7', '8', '9', '0']\n"
     ]
    }
   ],
   "source": [
    "#another way to solve above problem\n",
    "\n",
    "def create_phone_number(n):\n",
    "    print(n[0:3])\n",
    "    print(n[4:7])\n",
    "    print(n[8:])\n",
    "\n",
    "    print(list(map(lambda a: str(a),n)))\n",
    "\n",
    "create_phone_number([1,2,3,4,5,6,7,8,9,0])\n"
   ]
  },
  {
   "cell_type": "code",
   "execution_count": 14,
   "metadata": {},
   "outputs": [
    {
     "data": {
      "text/plain": [
       "'(123) 456-7890'"
      ]
     },
     "execution_count": 14,
     "metadata": {},
     "output_type": "execute_result"
    }
   ],
   "source": [
    "def create_phone_number(n):\n",
    "    return \"({}{}{}) {}{}{}-{}{}{}{}\".format(*n)\n",
    "create_phone_number ([1,2,3,4,5,6,7,8,9,0])"
   ]
  }
 ],
 "metadata": {
  "interpreter": {
   "hash": "31f2aee4e71d21fbe5cf8b01ff0e069b9275f58929596ceb00d14d90e3e16cd6"
  },
  "kernelspec": {
   "display_name": "Python 3.8.9 64-bit",
   "language": "python",
   "name": "python3"
  },
  "language_info": {
   "codemirror_mode": {
    "name": "ipython",
    "version": 3
   },
   "file_extension": ".py",
   "mimetype": "text/x-python",
   "name": "python",
   "nbconvert_exporter": "python",
   "pygments_lexer": "ipython3",
   "version": "3.8.9"
  },
  "orig_nbformat": 4
 },
 "nbformat": 4,
 "nbformat_minor": 2
}
