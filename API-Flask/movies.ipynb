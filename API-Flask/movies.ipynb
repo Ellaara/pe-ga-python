{
 "cells": [
  {
   "cell_type": "code",
   "execution_count": 31,
   "metadata": {},
   "outputs": [
    {
     "name": "stdout",
     "output_type": "stream",
     "text": [
      "{\"id\":\"tt0111161\",\"title\":\"The Shawshank Redemption\",\"rating\":9.3,\"rating_count\":2600000,\"release_year\":1994,\"popularity\":54,\"imdb_type\":\"movie\",\"runtime\":\"2h 22m\",\"genres\":[\"Drama\"],\"countries\":[\"United States\"],\"languages\":[\"English\"],\"director_names\":[\"Frank Darabont\"],\"creator_names\":[],\"description\":\"Chronicles the experiences of a formerly successful banker as a prisoner in the gloomy jailhouse of Shawshank after being found guilty of a crime he did not commit. The film portrays the man's unique way of dealing with his new, torturous life; along the way he befriends a number of fellow prisoners, most notably a wise long-term inmate named Red.\",\"aka\":[\"Rita Hayworth and Shawshank Redemption\"],\"version\":2,\"image\":\"https://m.media-amazon.com/images/M/MV5BMDFkYTc0MGEtZmNhMC00ZDIzLWFmNTEtODM1ZmRlYWMwMWFmXkEyXkFqcGdeQXVyMTMxODk2OTU@._V1_QL75_UX190_CR0,0,190,281_FMwebp.webp\",\"imdb_date\":\"1995-03-03\",\"actors\":[{\"id\":\"nm0000209\",\"name\":\"Tim Robbins\"},{\"id\":\"nm0000151\",\"name\":\"Morgan Freeman\"},{\"id\":\"nm0348409\",\"name\":\"Bob Gunton\"},{\"id\":\"nm0006669\",\"name\":\"William Sadler\"},{\"id\":\"nm0000317\",\"name\":\"Clancy Brown\"},{\"id\":\"nm0004743\",\"name\":\"Gil Bellows\"},{\"id\":\"nm0001679\",\"name\":\"Mark Rolston\"},{\"id\":\"nm0926235\",\"name\":\"James Whitmore\"},{\"id\":\"nm0218810\",\"name\":\"Jeffrey DeMunn\"},{\"id\":\"nm0104594\",\"name\":\"Larry Brandenburg\"},{\"id\":\"nm0321358\",\"name\":\"Neil Giuntoli\"},{\"id\":\"nm0508742\",\"name\":\"Brian Libby\"},{\"id\":\"nm0698998\",\"name\":\"David Proval\"},{\"id\":\"nm0706554\",\"name\":\"Joseph Ragno\"},{\"id\":\"nm0161980\",\"name\":\"Jude Ciccolella\"},{\"id\":\"nm0005204\",\"name\":\"Paul McCrane\"},{\"id\":\"nm0086169\",\"name\":\"Renee Blaine\"},{\"id\":\"nm0542957\",\"name\":\"Scott Mann\"}]}\n"
     ]
    }
   ],
   "source": [
    "import requests\n",
    "\n",
    "url = \"https://movie-details1.p.rapidapi.com/imdb_api/movie\"\n",
    "\n",
    "querystring = {\"id\":\"tt0111161\"}\n",
    "\n",
    "headers = {\n",
    "\t\"X-RapidAPI-Key\": \"e9f92e15c1msh626754d27e3bdeep11c432jsn503c7e8afd67\",\n",
    "\t\"X-RapidAPI-Host\": \"movie-details1.p.rapidapi.com\"\n",
    "}\n",
    "\n",
    "response = requests.request(\"GET\", url, headers=headers, params=querystring)\n",
    "\n",
    "print(response.text)\n"
   ]
  },
  {
   "cell_type": "code",
   "execution_count": 32,
   "metadata": {},
   "outputs": [],
   "source": [
    "movie_data = response.json()"
   ]
  },
  {
   "cell_type": "code",
   "execution_count": 38,
   "metadata": {},
   "outputs": [
    {
     "data": {
      "text/plain": [
       "{'id': 'nm0000151', 'name': 'Morgan Freeman'}"
      ]
     },
     "execution_count": 38,
     "metadata": {},
     "output_type": "execute_result"
    }
   ],
   "source": [
    "movie_data ['actors']"
   ]
  }
 ],
 "metadata": {
  "kernelspec": {
   "display_name": "Python 3.9.13 64-bit",
   "language": "python",
   "name": "python3"
  },
  "language_info": {
   "codemirror_mode": {
    "name": "ipython",
    "version": 3
   },
   "file_extension": ".py",
   "mimetype": "text/x-python",
   "name": "python",
   "nbconvert_exporter": "python",
   "pygments_lexer": "ipython3",
   "version": "3.9.13"
  },
  "orig_nbformat": 4,
  "vscode": {
   "interpreter": {
    "hash": "aee8b7b246df8f9039afb4144a1f6fd8d2ca17a180786b69acc140d282b71a49"
   }
  }
 },
 "nbformat": 4,
 "nbformat_minor": 2
}
