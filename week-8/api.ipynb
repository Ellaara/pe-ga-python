{
 "cells": [
  {
   "cell_type": "code",
   "execution_count": 7,
   "metadata": {},
   "outputs": [],
   "source": [
    "import requests\n",
    "\n",
    "data = requests.get('https://statsapi.web.nhl.com/api/v1/teams')\n"
   ]
  },
  {
   "cell_type": "code",
   "execution_count": 8,
   "metadata": {},
   "outputs": [],
   "source": [
    "#json converts the data a regular python dictionary\n",
    "\n",
    "teams_data = data.json()"
   ]
  },
  {
   "cell_type": "code",
   "execution_count": 9,
   "metadata": {},
   "outputs": [
    {
     "data": {
      "text/plain": [
       "{'id': 1,\n",
       " 'name': 'New Jersey Devils',\n",
       " 'link': '/api/v1/teams/1',\n",
       " 'venue': {'name': 'Prudential Center',\n",
       "  'link': '/api/v1/venues/null',\n",
       "  'city': 'Newark',\n",
       "  'timeZone': {'id': 'America/New_York', 'offset': -4, 'tz': 'EDT'}},\n",
       " 'abbreviation': 'NJD',\n",
       " 'teamName': 'Devils',\n",
       " 'locationName': 'New Jersey',\n",
       " 'firstYearOfPlay': '1982',\n",
       " 'division': {'id': 18,\n",
       "  'name': 'Metropolitan',\n",
       "  'nameShort': 'Metro',\n",
       "  'link': '/api/v1/divisions/18',\n",
       "  'abbreviation': 'M'},\n",
       " 'conference': {'id': 6, 'name': 'Eastern', 'link': '/api/v1/conferences/6'},\n",
       " 'franchise': {'franchiseId': 23,\n",
       "  'teamName': 'Devils',\n",
       "  'link': '/api/v1/franchises/23'},\n",
       " 'shortName': 'New Jersey',\n",
       " 'officialSiteUrl': 'http://www.newjerseydevils.com/',\n",
       " 'franchiseId': 23,\n",
       " 'active': True}"
      ]
     },
     "execution_count": 9,
     "metadata": {},
     "output_type": "execute_result"
    }
   ],
   "source": [
    "#what does the data look like?\n",
    "teams_data['teams'][0]"
   ]
  },
  {
   "cell_type": "code",
   "execution_count": 16,
   "metadata": {},
   "outputs": [
    {
     "name": "stdout",
     "output_type": "stream",
     "text": [
      "32\n"
     ]
    }
   ],
   "source": [
    "#how many teams do we have?\n",
    "print(len(teams_data['teams']))"
   ]
  },
  {
   "cell_type": "code",
   "execution_count": 17,
   "metadata": {},
   "outputs": [
    {
     "name": "stdout",
     "output_type": "stream",
     "text": [
      "<class 'list'>\n"
     ]
    }
   ],
   "source": [
    "print(type(teams_data['teams']))"
   ]
  },
  {
   "cell_type": "code",
   "execution_count": 30,
   "metadata": {},
   "outputs": [
    {
     "name": "stdout",
     "output_type": "stream",
     "text": [
      "['New Jersey Devils', 'New York Islanders', 'New York Rangers', 'Philadelphia Flyers', 'Pittsburgh Penguins', 'Boston Bruins', 'Buffalo Sabres', 'Montréal Canadiens', 'Ottawa Senators', 'Toronto Maple Leafs', 'Carolina Hurricanes', 'Florida Panthers', 'Tampa Bay Lightning', 'Washington Capitals', 'Chicago Blackhawks', 'Detroit Red Wings', 'Nashville Predators', 'St. Louis Blues', 'Calgary Flames', 'Colorado Avalanche', 'Edmonton Oilers', 'Vancouver Canucks', 'Anaheim Ducks', 'Dallas Stars', 'Los Angeles Kings', 'San Jose Sharks', 'Columbus Blue Jackets', 'Minnesota Wild', 'Winnipeg Jets', 'Arizona Coyotes', 'Vegas Golden Knights', 'Seattle Kraken']\n"
     ]
    }
   ],
   "source": [
    "#print the names of all the teams:\n",
    "names = []\n",
    "for team in teams_data['teams']:\n",
    "    names.append(team['name'])\n",
    "\n",
    "print(names)"
   ]
  },
  {
   "cell_type": "code",
   "execution_count": 37,
   "metadata": {},
   "outputs": [
    {
     "name": "stdout",
     "output_type": "stream",
     "text": [
      "16\n"
     ]
    }
   ],
   "source": [
    "#how many teams are in the eastern conference?\n",
    "\n",
    "eastern_conf_count = 0\n",
    "\n",
    "for team in teams_data['teams']:\n",
    "    if team['conference']['name'] == 'Eastern':\n",
    "        eastern_conf_count += 1\n",
    "\n",
    "print(eastern_conf_count)"
   ]
  },
  {
   "cell_type": "code",
   "execution_count": 44,
   "metadata": {},
   "outputs": [
    {
     "name": "stdout",
     "output_type": "stream",
     "text": [
      "{'Atlantic', 'Metropolitan', 'Pacific', 'Central'}\n",
      "['Metropolitan', 'Metropolitan', 'Metropolitan', 'Metropolitan', 'Metropolitan', 'Atlantic', 'Atlantic', 'Atlantic', 'Atlantic', 'Atlantic', 'Metropolitan', 'Atlantic', 'Atlantic', 'Metropolitan', 'Central', 'Atlantic', 'Central', 'Central', 'Pacific', 'Central', 'Pacific', 'Pacific', 'Pacific', 'Central', 'Pacific', 'Pacific', 'Metropolitan', 'Central', 'Central', 'Central', 'Pacific', 'Pacific']\n",
      "['Atlantic', 'Metropolitan', 'Pacific', 'Central']\n"
     ]
    }
   ],
   "source": [
    "#what are the different divisions?\n",
    "division_names = set()\n",
    "for team in teams_data['teams']:\n",
    "    division_names.add(team['division']['name'])\n",
    "\n",
    "print(division_names)\n",
    "\n",
    "#OR\n",
    "division_list = []\n",
    "for team in teams_data['teams']:\n",
    "    division_list.append(team['division']['name'])\n",
    "\n",
    "print(division_list)\n",
    "\n",
    "#we can remove the duplications by converting teh list into a set:\n",
    "\n",
    "no_duplicates = list(set(division_list))\n",
    "\n",
    "print(no_duplicates)\n"
   ]
  },
  {
   "cell_type": "code",
   "execution_count": 88,
   "metadata": {},
   "outputs": [
    {
     "name": "stdout",
     "output_type": "stream",
     "text": [
      "{'name': 'Montréal Canadiens', 'firstYearOfPlay': '1909'}\n"
     ]
    }
   ],
   "source": [
    "#what is the oldest team? (the team with the oldest first year of play)\n",
    "\n",
    "#hints:\n",
    "#1. can you put all the first year of play data into its own list, and sort?\n",
    "#2. can you put the first year of play, along with the team name in a dictionary, \n",
    "# then place all these dictionaries in a list, then sort?\n",
    "#3. Rememebr, you have to use a key to sort a list of dictionaries,(remember the lambda function?)\n",
    "\n",
    "years = []\n",
    "\n",
    "for team in teams_data['teams']:\n",
    "    my_team = {}\n",
    "    my_team['name'] = team['name']\n",
    "    my_team['firstYearOfPlay'] = team['firstYearOfPlay']\n",
    "    years.append(my_team)\n",
    "\n",
    "print(sorted(years, key=lambda x: x['firstYearOfPlay'])[0])\n",
    "    "
   ]
  }
 ],
 "metadata": {
  "kernelspec": {
   "display_name": "Python 3.9.13 64-bit",
   "language": "python",
   "name": "python3"
  },
  "language_info": {
   "codemirror_mode": {
    "name": "ipython",
    "version": 3
   },
   "file_extension": ".py",
   "mimetype": "text/x-python",
   "name": "python",
   "nbconvert_exporter": "python",
   "pygments_lexer": "ipython3",
   "version": "3.9.13"
  },
  "orig_nbformat": 4,
  "vscode": {
   "interpreter": {
    "hash": "aee8b7b246df8f9039afb4144a1f6fd8d2ca17a180786b69acc140d282b71a49"
   }
  }
 },
 "nbformat": 4,
 "nbformat_minor": 2
}
