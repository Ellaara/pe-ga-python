{
 "cells": [
  {
   "cell_type": "code",
   "execution_count": null,
   "metadata": {},
   "outputs": [],
   "source": [
    "# Truthy and Falsey\n",
    "\n",
    "# some values are inherently true and some are false\n",
    "#the value 0 is falsey\n",
    "#any positive integer is Truthy\n",
    "\n",
    "#the empty string is falsey\n",
    "#None is falsey\n",
    "#the empty list is falsey\n"
   ]
  },
  {
   "cell_type": "code",
   "execution_count": null,
   "metadata": {},
   "outputs": [],
   "source": [
    "#for conditionals, we use comparison operators\n",
    "# >\n",
    "# <\n",
    "# >= greater than or equal\n",
    "# <= less than or equal\n",
    "# == equality\n",
    "# != not equal"
   ]
  },
  {
   "cell_type": "code",
   "execution_count": 19,
   "metadata": {},
   "outputs": [
    {
     "name": "stdout",
     "output_type": "stream",
     "text": [
      "eligible to vote\n",
      "too far\n",
      "good day for python\n",
      "we can do homework too!!\n",
      "if else\n"
     ]
    }
   ],
   "source": [
    "age = 19\n",
    "#print 'eligible to vote' if age is greater ot equal to 18\n",
    "\n",
    "if age >=18:\n",
    "    print ('eligible to vote')\n",
    "\n",
    "#print 'too far' if difference between city_one and city_two is greater than 10\n",
    "\n",
    "city_one = 45\n",
    "city_two = 56\n",
    "\n",
    "if city_two - city_one > 10:\n",
    "    print ('too far')\n",
    "\n",
    "#else\n",
    "day_of_week = 'Mon'\n",
    "#print 'good day for pyhton' if the day of week is Mon, otherwise print 'lets do something else'\n",
    "\n",
    "if day_of_week == 'Mon':\n",
    "    print ('good day for python')\n",
    "    print('we can do homework too!!')\n",
    "else:\n",
    "    print('lets do something else')\n",
    "\n",
    "#multiiple options (elif)\n",
    "#Mon - 'if else'\n",
    "#Wed - 'loops'\n",
    "#Fri - 'homework'\n",
    "#any other day - 'Fun stuff woohoo!!'\n",
    "\n",
    "if day_of_week == 'Mon':\n",
    "    print('if else')\n",
    "elif day_of_week == 'Wed':\n",
    "    print('loops')\n",
    "elif day_of_week == 'Fri':\n",
    "    print('homework')\n",
    "else:\n",
    "    print('fun stuff woohoo!!')\n",
    "\n",
    "#as soon as one of the if or elifs are met, python will stop readying the rest of the block and jumps to the very end of the loop."
   ]
  },
  {
   "cell_type": "code",
   "execution_count": 22,
   "metadata": {},
   "outputs": [
    {
     "name": "stdout",
     "output_type": "stream",
     "text": [
      "None\n",
      "Go biking\n"
     ]
    }
   ],
   "source": [
    "#compound statements in our if\n",
    "\n",
    "#if it is a Monday and it is raining stay inside\n",
    "day_of_week = 'Mon'\n",
    "weather = 'sunny'\n",
    "action = None\n",
    "if day_of_week =='Mon' and weather =='rainy':\n",
    "    action = 'Stay Inside'\n",
    "print(action)\n",
    "\n",
    "#and - all conditions have to be true for result to be true\n",
    "#a and b and c and d and e -> True if ALL are true\n",
    "\n",
    "if day_of_week == 'Wed' or weather == 'sunny':\n",
    "    action = 'Go biking'\n",
    "print (action)"
   ]
  },
  {
   "cell_type": "code",
   "execution_count": 30,
   "metadata": {},
   "outputs": [
    {
     "name": "stdout",
     "output_type": "stream",
     "text": [
      "It is a vowel\n"
     ]
    }
   ],
   "source": [
    "#check if a character is a vowel\n",
    "letter_one = 'a' #True\n",
    "letter_two = 'i' #True\n",
    "letter_three = 'x' #False\n",
    "letter_four = 'u' #True\n",
    "\n",
    "test = letter_four\n",
    "\n",
    "#if test == 'a' or test =='e' or test == 'i' or test == 'o' or test == 'u':\n",
    "#    print('It is a vowel')\n",
    "#else:\n",
    "#    print('No vowel')\n",
    "\n",
    "\n",
    "#use the 'in' operator to check for membership in a list or string\n",
    "\n",
    "#vowels = 'aeiou'\n",
    "vowels = ['a','e','i','o','u','A','E','I','O','U']\n",
    "\n",
    "if test in vowels:\n",
    "    print('It is a vowel')\n",
    "else:\n",
    "    print('No vowel')"
   ]
  },
  {
   "cell_type": "code",
   "execution_count": 37,
   "metadata": {},
   "outputs": [
    {
     "name": "stdout",
     "output_type": "stream",
     "text": [
      "Ella\n"
     ]
    }
   ],
   "source": [
    "#user input from keyboard\n",
    "name = input('Type your name here: ')\n",
    "print(name)"
   ]
  },
  {
   "cell_type": "code",
   "execution_count": 36,
   "metadata": {},
   "outputs": [
    {
     "name": "stdout",
     "output_type": "stream",
     "text": [
      "10\n"
     ]
    }
   ],
   "source": [
    "number_one = int(input('Enter first number: '))\n",
    "number_two = int(input('Enter second number: '))\n",
    "print(number_one + number_two)"
   ]
  },
  {
   "cell_type": "markdown",
   "metadata": {},
   "source": []
  }
 ],
 "metadata": {
  "interpreter": {
   "hash": "31f2aee4e71d21fbe5cf8b01ff0e069b9275f58929596ceb00d14d90e3e16cd6"
  },
  "kernelspec": {
   "display_name": "Python 3.8.9 64-bit",
   "language": "python",
   "name": "python3"
  },
  "language_info": {
   "codemirror_mode": {
    "name": "ipython",
    "version": 3
   },
   "file_extension": ".py",
   "mimetype": "text/x-python",
   "name": "python",
   "nbconvert_exporter": "python",
   "pygments_lexer": "ipython3",
   "version": "3.8.9"
  },
  "orig_nbformat": 4
 },
 "nbformat": 4,
 "nbformat_minor": 2
}
