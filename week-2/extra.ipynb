{
 "cells": [
  {
   "cell_type": "code",
   "execution_count": 14,
   "metadata": {},
   "outputs": [
    {
     "name": "stdout",
     "output_type": "stream",
     "text": [
      "381.5\n",
      "0\n"
     ]
    }
   ],
   "source": [
    " #find the total amount spent on uber eats\n",
    "\n",
    "import csv\n",
    "total_uber_eats_spend = 0\n",
    "item = 0\n",
    "\n",
    "with open ('uber_eats.csv') as data_file:\n",
    "    data = csv.reader(data_file)\n",
    "    for row in data:\n",
    "        if row[2] != 'price':\n",
    "            total_uber_eats_spend += float(row[2])\n",
    "    print (total_uber_eats_spend)\n",
    "\n",
    "    data = csv.reader(data_file)\n",
    "    for row in data:\n",
    "        try:\n",
    "            item += float(row[2])\n",
    "        except:\n",
    "                pass\n",
    "\n",
    "    print (item)\n",
    "\n",
    "       \n",
    "\n"
   ]
  }
 ],
 "metadata": {
  "interpreter": {
   "hash": "31f2aee4e71d21fbe5cf8b01ff0e069b9275f58929596ceb00d14d90e3e16cd6"
  },
  "kernelspec": {
   "display_name": "Python 3.8.9 64-bit",
   "language": "python",
   "name": "python3"
  },
  "language_info": {
   "codemirror_mode": {
    "name": "ipython",
    "version": 3
   },
   "file_extension": ".py",
   "mimetype": "text/x-python",
   "name": "python",
   "nbconvert_exporter": "python",
   "pygments_lexer": "ipython3",
   "version": "3.8.9"
  },
  "orig_nbformat": 4
 },
 "nbformat": 4,
 "nbformat_minor": 2
}
