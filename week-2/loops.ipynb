{
 "cells": [
  {
   "cell_type": "code",
   "execution_count": 4,
   "metadata": {},
   "outputs": [
    {
     "name": "stdout",
     "output_type": "stream",
     "text": [
      "7\n"
     ]
    }
   ],
   "source": [
    "#the for loop\n",
    "\n",
    "my_string = 'this is an arbitrary string'\n",
    "\n",
    "#how would we find the number of vowels in this string?\n",
    "\n",
    "#1. put vowels in a list and store it in a variable\n",
    "#2. iterate over the string, and check each letter in the string if it is in the list of vowel\n",
    "#3. we need another variable, so that each time one of the letters is vowel we add 1 to the variable\n",
    "\n",
    "vowels = ['a', 'e', 'i', 'o', 'u', 'A', 'E', 'I', 'O', 'U']\n",
    "vowel_count = 0\n",
    "for letter in my_string:\n",
    "    if letter in vowels:\n",
    "        vowel_count += 1\n",
    "        \n",
    "print (vowel_count)"
   ]
  },
  {
   "cell_type": "code",
   "execution_count": 12,
   "metadata": {},
   "outputs": [
    {
     "name": "stdout",
     "output_type": "stream",
     "text": [
      "no zero\n",
      "no zero\n",
      "no zero\n",
      "no zero\n",
      "no zero\n",
      "no zero\n",
      "found a zero\n",
      "no zero\n"
     ]
    }
   ],
   "source": [
    "#check if there is a zero in this list\n",
    "#if yes, print found a zero\n",
    "#if no, print no zeros\n",
    "nums = [-1, -5, 4, 3, 7, 8, 0, -7]\n",
    "\n",
    "for num in nums:\n",
    "    if num == 0:\n",
    "       print('found a zero')\n",
    "    else:\n",
    "        print('no zero')\n",
    "\n"
   ]
  },
  {
   "cell_type": "code",
   "execution_count": 22,
   "metadata": {},
   "outputs": [
    {
     "name": "stdout",
     "output_type": "stream",
     "text": [
      "13\n"
     ]
    }
   ],
   "source": [
    "#print the first odd number in this list\n",
    "\n",
    "my_nums = [0, 2, -6, -12, 13, 5, 24, 11, 3] #result is 13\n",
    "#hint: use break to end the loop when youve found an odd number\n",
    "\n",
    "for num in my_nums:\n",
    "    if num % 2 == 1:\n",
    "        print (num)\n",
    "        break\n"
   ]
  },
  {
   "cell_type": "code",
   "execution_count": 25,
   "metadata": {},
   "outputs": [
    {
     "name": "stdout",
     "output_type": "stream",
     "text": [
      "51\n",
      "59 -8\n"
     ]
    }
   ],
   "source": [
    "#find the sum of all the numbers in this list\n",
    "temps = [-2, -5, -1, 0, 2, 5, 11, 7, 13, 21]\n",
    "total = 0\n",
    "\n",
    "for temp in temps:\n",
    "    total += temp\n",
    "\n",
    "print (total)\n",
    "\n",
    "#calculate two totals: total of the negative numbers, and total of the positive numbers\n",
    "positive_total = 0\n",
    "negative_total = 0\n",
    "\n",
    "for temp in temps:\n",
    "    if temp < 0:\n",
    "        negative_total += temp\n",
    "    else:\n",
    "        positive_total += temp\n",
    "\n",
    "print (positive_total, negative_total)"
   ]
  },
  {
   "cell_type": "code",
   "execution_count": 26,
   "metadata": {},
   "outputs": [
    {
     "name": "stdout",
     "output_type": "stream",
     "text": [
      "Pythn s mzng\n"
     ]
    }
   ],
   "source": [
    "#create a new string from this string, with all the vowels removed\n",
    "\n",
    "string = 'Python is amazing' #Pythn s mzng\n",
    "\n",
    "vowel = ['a', 'e', 'i', 'o', 'u']\n",
    "consonant = ''\n",
    "\n",
    "for letter in string:\n",
    "    if letter not in vowel:\n",
    "        consonant += letter\n",
    "\n",
    "print (consonant)\n"
   ]
  },
  {
   "cell_type": "code",
   "execution_count": null,
   "metadata": {},
   "outputs": [],
   "source": []
  },
  {
   "cell_type": "code",
   "execution_count": 30,
   "metadata": {},
   "outputs": [
    {
     "name": "stdout",
     "output_type": "stream",
     "text": [
      "3\n",
      "3\n"
     ]
    }
   ],
   "source": [
    "#for loops using indeces\n",
    "\n",
    "#what if we want to know the index of a value in the list\n",
    "#what is the index of the first 7 in the list\n",
    "\n",
    "values = [-1, 5, 3, 7, 2, 8, 7, -11, 23] #3\n",
    "\n",
    "#we need to use the range function\n",
    "for idx in range (len(values)):\n",
    "    if values[idx] == 7:\n",
    "        print (idx)\n",
    "        break\n",
    "\n",
    "first_seven_index = -1\n",
    "for idx in range (len(values)):\n",
    "    if values[idx] == 7:\n",
    "        first_seven_index = idx\n",
    "        break\n",
    "\n",
    "print (first_seven_index)\n",
    "\n",
    "#-1 is an arbitrary value we assign when we want to find the location os something. If it returns -1 it means it didn't find it\n",
    " "
   ]
  },
  {
   "cell_type": "code",
   "execution_count": 34,
   "metadata": {},
   "outputs": [
    {
     "name": "stdout",
     "output_type": "stream",
     "text": [
      "[1, 5]\n"
     ]
    }
   ],
   "source": [
    "#challenge\n",
    "cities = ['Cancun', 'Cozumel', 'New Orleans', 'Montego Bay', 'Rio de Janeiro', 'Cozumel']\n",
    "\n",
    "#1. first find the position of all the 'Cozumel's in the list,\n",
    "#2. store them in a new list\n",
    "#3. print the new list\n",
    "#4. replace them with 'Los Cabos'\n",
    "# \n",
    "# hint: do not update the list while you are searching for the item\n",
    "# hint, find the positions of each 'Cozumel's \n",
    "\n",
    "cozumel_indexes = []\n",
    "for city in range (len(cities)):\n",
    "    if cities[city] == 'Cozumel':\n",
    "        cozumel_indexes.append(city)\n",
    "print (cozumel_indexes)\n"
   ]
  }
 ],
 "metadata": {
  "interpreter": {
   "hash": "31f2aee4e71d21fbe5cf8b01ff0e069b9275f58929596ceb00d14d90e3e16cd6"
  },
  "kernelspec": {
   "display_name": "Python 3.8.9 64-bit",
   "language": "python",
   "name": "python3"
  },
  "language_info": {
   "codemirror_mode": {
    "name": "ipython",
    "version": 3
   },
   "file_extension": ".py",
   "mimetype": "text/x-python",
   "name": "python",
   "nbconvert_exporter": "python",
   "pygments_lexer": "ipython3",
   "version": "3.8.9"
  },
  "orig_nbformat": 4
 },
 "nbformat": 4,
 "nbformat_minor": 2
}
