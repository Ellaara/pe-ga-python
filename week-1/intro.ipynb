{
 "cells": [
  {
   "cell_type": "code",
   "execution_count": 5,
   "metadata": {},
   "outputs": [
    {
     "name": "stdout",
     "output_type": "stream",
     "text": [
      "hello world\n"
     ]
    }
   ],
   "source": [
    "print('hello world')"
   ]
  },
  {
   "cell_type": "code",
   "execution_count": 12,
   "metadata": {},
   "outputs": [
    {
     "name": "stdout",
     "output_type": "stream",
     "text": [
      "Ella Rasoulian\n",
      "Ella Rasoulian\n",
      "Ella  Rasoulian\n",
      "hello world, my name is Ella Rasoulian and I am 27 years old\n",
      "hello world, my name is Ella Rasoulian and I am 27 years old\n"
     ]
    }
   ],
   "source": [
    "#variable\n",
    "first_name = 'Ella' #string\n",
    "other_string = '1223222' #string\n",
    "age = 27 #integer\n",
    "has_yachts = False #boolean (True, False)\n",
    "price_of_gas = 2.11 #float\n",
    "val = None #NoneType\n",
    "last_name = 'Rasoulian'\n",
    "full_name = first_name+' '+last_name\n",
    "#print your full name\n",
    "print (first_name,last_name)\n",
    "print (first_name+' '+last_name)\n",
    "print (first_name,'', last_name)\n",
    "#hello world, my name is [full name] and I am [age] years old\n",
    "print ('hello world, my name is', first_name, last_name, 'and I am', age, 'years old')\n",
    "#string interpolation\n",
    "print (f'hello world, my name is {full_name} and I am {age} years old')\n"
   ]
  },
  {
   "cell_type": "code",
   "execution_count": 6,
   "metadata": {},
   "outputs": [
    {
     "name": "stdout",
     "output_type": "stream",
     "text": [
      "35 -15 250 0.4 0\n",
      "35\n",
      "-15\n",
      "250\n",
      "3.3333333333333335\n",
      "3\n",
      "2.0\n",
      "2\n"
     ]
    }
   ],
   "source": [
    "#arithmetic operators\n",
    "a=10\n",
    "b=25\n",
    "c=3\n",
    "d=5\n",
    "print(a+b, a-b, a*b, a/b, a//b)\n",
    "print(a+b)\n",
    "print(a-b)\n",
    "print(a*b)\n",
    "print(a/c)\n",
    "print(a//c)\n",
    "print (a/d) #answer is always float not integer\n",
    "print (a//d) #answer is always integer\n",
    "\n",
    "#read tutorial through strings section"
   ]
  },
  {
   "cell_type": "code",
   "execution_count": 17,
   "metadata": {},
   "outputs": [
    {
     "name": "stdout",
     "output_type": "stream",
     "text": [
      "29\n",
      "2.35\n"
     ]
    }
   ],
   "source": [
    "current_age = 27\n",
    "current_age = current_age+1 #updates current_age\n",
    "current_age += 1 #increment age\n",
    "print (current_age)\n",
    "price_of_gas = 2.15\n",
    "#gas goes up by 20 cents\n",
    "price_of_gas += 0.2\n",
    "print (price_of_gas)\n",
    "\n",
    "#valid for other operators as well\n",
    "# -=\n",
    "# +=\n",
    "# /=\n",
    "# *="
   ]
  },
  {
   "cell_type": "code",
   "execution_count": 16,
   "metadata": {},
   "outputs": [
    {
     "name": "stdout",
     "output_type": "stream",
     "text": [
      "E\n",
      "4\n",
      "a\n",
      "l\n",
      "Ell\n",
      "Ell\n",
      "Ella\n",
      "El\n",
      "Ella\n",
      "El\n",
      "Ella\n",
      "Ella\n",
      "allE\n"
     ]
    }
   ],
   "source": [
    "name = 'Ella'\n",
    "print(name[0])\n",
    "print (len(name))\n",
    "print(name[-1])\n",
    "print(name[-2])\n",
    "print(name[0:3])\n",
    "print(name[:3])\n",
    "print(name[0:])\n",
    "print(name[0:2])\n",
    "print(name[0:7])\n",
    "print(name[:2])\n",
    "print(name[0:])\n",
    "print(name[:])\n",
    "print(name[::-1])"
   ]
  }
 ],
 "metadata": {
  "interpreter": {
   "hash": "31f2aee4e71d21fbe5cf8b01ff0e069b9275f58929596ceb00d14d90e3e16cd6"
  },
  "kernelspec": {
   "display_name": "Python 3.8.9 64-bit",
   "language": "python",
   "name": "python3"
  },
  "language_info": {
   "codemirror_mode": {
    "name": "ipython",
    "version": 3
   },
   "file_extension": ".py",
   "mimetype": "text/x-python",
   "name": "python",
   "nbconvert_exporter": "python",
   "pygments_lexer": "ipython3",
   "version": "3.8.9"
  },
  "orig_nbformat": 4
 },
 "nbformat": 4,
 "nbformat_minor": 2
}
